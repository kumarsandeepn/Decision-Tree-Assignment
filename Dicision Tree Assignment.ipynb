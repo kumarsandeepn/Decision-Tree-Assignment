{
 "cells": [
  {
   "cell_type": "markdown",
   "id": "fae5a838-fb89-4d73-b44c-4becf0fb6d32",
   "metadata": {},
   "source": [
    "##  1. What is a Decision Tree, and how does it work?\n",
    "\n",
    "##  A Decision Tree is a supervised machine learning algorithm used for both classification and regression tasks. It works by splitting the data into subsets based on the value of input features, forming a tree-like structure of decisions.\n",
    "\n",
    "\n",
    "A Decision Tree is a flowchart-like:\n",
    "\n",
    "Each internal node represents a decision based on a feature (e.g., \"Is age > 30?\")\n",
    "\n",
    "Each branch represents the outcome of that decision (Yes/No)\n",
    "\n",
    "Each leaf node represents a final prediction (e.g., \"Yes, the person will churn\")\n",
    "\n",
    "* How Does Work Dicision Tree?\n",
    "Start with the entire dataset.\n",
    "\n",
    "Choose the best feature to split the data on. This is done using criteria like:\n",
    "\n",
    "Gini Impurity (used in CART algorithm)\n",
    "\n",
    "Entropy / Information Gain (used in ID3 algorithm)\n",
    "\n",
    "Mean Squared Error (for regression)\n",
    "\n",
    "Split the dataset into two or more subsets based on the chosen feature.\n",
    "\n",
    "Repeat steps 2–3 recursively on each subset until:\n",
    "\n",
    "A stopping condition is met (e.g., max depth, min samples per leaf)\n",
    "\n",
    "All samples in a node belong to the same class (for classification)\n",
    "\n",
    "Assign the majority class (for classification) or mean value (for regression) to each leaf node.\n",
    "\n",
    "* Advantages\n",
    "Easy to understand and visualize\n",
    "\n",
    "Requires little data preprocessing\n",
    "\n",
    "Can handle both numerical and categorical data\n",
    "\n",
    "Non-linear relationships handled well\n",
    "\n",
    "* Disadvantages\n",
    "Prone to overfitting, especially deep trees\n",
    "\n",
    "Unstable with small changes in data\n",
    "\n",
    "Can be biased toward features with more levels (splits)\n",
    "\n"
   ]
  },
  {
   "cell_type": "markdown",
   "id": "30266a2a-52c5-46c1-ba22-9b6392a444c2",
   "metadata": {},
   "source": [
    "## 2. What are impurity measures in Decision Trees?\n",
    "\n",
    "##  In decision trees, impurity measures quantify the \"mixedness\" or disorder within a node, indicating how well a node represents a single class. The goal is to find splits that minimize impurity, leading to purer, more informative nodes. Common impurity measures include Gini impurity, entropy, and misclassification error. \n",
    "\n",
    "*Gini Impurity:\n",
    "Measures the probability of misclassifying a randomly chosen element in a node if it were labeled according to the class distribution. A Gini index of 0 indicates perfect purity, while 0.5 represents maximum impurity in a binary classification scenario according to Analytics Vidhya. \n",
    "\n",
    "*Entropy:\n",
    "Quantifies the randomness or disorder within a node, with lower entropy indicating higher purity. It's calculated using the probabilities of each class within the node. \n",
    "Misclassification Error:\n",
    "Represents the proportion of instances in a node that are incorrectly classified. Similar to the other measures, a lower misclassification error indicates better purity. \n",
    "These impurity measures are used to evaluate potential splits in the decision tree. By calculating the change in impurity (information gain) after a split, the algorithm can choose the split that best separates the data into more homogeneous groups. \n",
    "For example:\n",
    "If a node contains mostly instances of one class, its impurity will be low. \n",
    "If a node contains an equal number of instances from multiple classes, its impurity will be high."
   ]
  },
  {
   "cell_type": "markdown",
   "id": "4cefd9fd-bba6-48a0-9ea9-6bf0a8881d7e",
   "metadata": {},
   "source": [
    "##  3. What is the mathematical formula for Gini Impurity?\n",
    "\n",
    "##  Definition of Gini Impurity\n",
    "Gini Impurity is a measure used in decision trees to quantify how \"impure\" or \"mixed\" a node is. It tells us the probability that a randomly chosen element from a set would be incorrectly classified if it were labeled according to the class distribution in that set.\n",
    "\n"
   ]
  },
  {
   "cell_type": "markdown",
   "id": "a5b891f7-31ba-4957-8d98-f1b2a5dc1c00",
   "metadata": {},
   "source": [
    "$$\n",
    "G = 1 - \\sum_{i=1}^{C} p_i^2\n",
    "$$\n"
   ]
  },
  {
   "cell_type": "markdown",
   "id": "2d23ead2-274e-4c65-8669-b5afa98ac21a",
   "metadata": {},
   "source": [
    "##  4. What is the mathematical formula for Entropy?\n",
    "\n",
    "##  Mathematical Formula for Entropy (in Decision Trees)\n",
    "Entropy is an impurity measure used to quantify the uncertainty or randomness in a dataset. It is commonly used in the ID3 algorithm for building decision trees."
   ]
  },
  {
   "cell_type": "markdown",
   "id": "c9d01457-8318-49d7-abba-511b3f658639",
   "metadata": {},
   "source": [
    "$$\n",
    "H = - \\sum_{i=1}^{C} p_i \\log_2(p_i)\n",
    "$$\n"
   ]
  },
  {
   "cell_type": "markdown",
   "id": "8d2ea862-8c1a-4033-9ba1-55151b45c460",
   "metadata": {},
   "source": [
    "Explanation:\n",
    "𝑝\n",
    "𝑖\n",
    "p \n",
    "i\n",
    "​\n",
    " : Proportion of elements belonging to class \n",
    "𝑖\n",
    "i\n",
    "\n",
    "𝐶\n",
    "C: Total number of classes\n",
    "\n",
    "The logarithm is base 2 (i.e., measuring information in bits)\n",
    "\n",
    "If \n",
    "𝑝\n",
    "𝑖\n",
    "=\n",
    "0\n",
    "p \n",
    "i\n",
    "​\n",
    " =0, we define \n",
    "𝑝\n",
    "𝑖\n",
    "log\n",
    "⁡\n",
    "2\n",
    "(\n",
    "𝑝\n",
    "𝑖\n",
    ")\n",
    "=\n",
    "0\n",
    "p \n",
    "i\n",
    "​\n",
    " log \n",
    "2\n",
    "​\n",
    " (p \n",
    "i\n",
    "​\n",
    " )=0 (this avoids undefined values)\n",
    "\n"
   ]
  },
  {
   "cell_type": "markdown",
   "id": "d544b0d7-d1a4-4eb1-99bf-384fc1709f23",
   "metadata": {},
   "source": [
    "## 5. What is Information Gain, and how is it used in Decision Trees?\n",
    "\n",
    "##  Information Gain (IG) is a metric used in decision tree algorithms (like ID3) to decide which feature to split the data on at each node. It measures the reduction in entropy (uncertainty) after a dataset is split on a feature.\n",
    "\n",
    "In simple terms, Information Gain tells us how much \"purity\" a feature gives when we use it to split the data.\n",
    "\n",
    "* Mathematical Definition\n",
    "If:\n",
    "\n",
    "𝑆\n",
    "S is the current dataset (parent node)\n",
    "\n",
    "𝐴\n",
    "A is the attribute (feature) we are testing\n",
    "\n",
    "𝑉\n",
    "V is the set of possible values for attribute \n",
    "𝐴\n",
    "A\n",
    "\n",
    "𝑆\n",
    "𝑣\n",
    "S \n",
    "v\n",
    "​\n",
    "  is the subset of \n",
    "𝑆\n",
    "S where \n",
    "𝐴\n",
    "=\n",
    "𝑣\n",
    "A=v\n",
    "\n",
    "Then, the Information Gain from splitting on attribute \n",
    "𝐴\n",
    "A is:"
   ]
  },
  {
   "cell_type": "markdown",
   "id": "31d06ce6-9981-4efd-b8b9-cd898530916b",
   "metadata": {},
   "source": [
    "G(S,A)=Entropy(S)− \n",
    "v∈V\n",
    "∑\n",
    "​\n",
    "  \n",
    "∣S∣\n",
    "∣S \n",
    "v\n",
    "​\n",
    " ∣\n",
    "​\n",
    " ⋅Entropy(S \n",
    "v\n",
    "​\n",
    " )"
   ]
  },
  {
   "cell_type": "markdown",
   "id": "cbacf748-8133-4458-b193-3e7f72d7cae3",
   "metadata": {},
   "source": [
    "* Use Information Gain in Decision Trees\"\n",
    "  \n",
    "In decision tree construction (especially ID3):\n",
    "\n",
    "The algorithm evaluates all features.\n",
    "\n",
    "Calculates Information Gain for each.\n",
    "\n",
    "Chooses the feature with the highest Information Gain to split the data at the current node.\n",
    "\n",
    "This process repeats recursively for each branch."
   ]
  },
  {
   "cell_type": "markdown",
   "id": "b3cab197-fa65-42f6-a82c-3b6d3a90ef92",
   "metadata": {},
   "source": [
    "##  6. What is the difference between Gini Impurity and Entropy?\n",
    "\n",
    "##  Gini impurity and entropy are both metrics used to evaluate the quality of a split in a decision tree, with the goal of minimizing impurity and maximizing information gain. Gini impurity is faster to compute, while entropy provides slightly better results in some cases. Both metrics are generally used interchangeably, as they often yield similar results. \n",
    "\n",
    "Gini Impurity:\n",
    "Measures the probability of misclassifying a randomly chosen element if it were randomly labeled according to the class distribution in the node. \n",
    "Calculated as: 1 - Σ(pᵢ²), where pᵢ is the probability of the i-th class. \n",
    "The range of Gini impurity is 0 to 0.5. \n",
    "Generally computationally faster than entropy. \n",
    "Tends to isolate the most frequent class into its own branch in a decision tree. \n",
    "\n",
    "Entropy:\n",
    "Measures the impurity or randomness of a set of data. \n",
    "Calculated as: -Σ(pᵢ * log₂(pᵢ)), where pᵢ is the probability of the i-th class. \n",
    "The range of entropy is 0 to log₂(n), where n is the number of classes. \n",
    "More computationally expensive than Gini impurity due to the logarithm calculation. \n",
    "Tends to create more balanced trees. \n",
    "\n",
    "Key Differences:\n",
    "Calculation:\n",
    "Gini impurity is faster to compute because it doesn't involve logarithms, unlike entropy. \n",
    "\n",
    "Range:\n",
    "Gini impurity's range is 0 to 0.5, while entropy's range is 0 to log₂(n). \n",
    "\n",
    "Tree Structure:\n",
    "Gini impurity tends to isolate the most frequent class, while entropy tends to create more balanced trees. \n"
   ]
  },
  {
   "cell_type": "markdown",
   "id": "3ce5e892-8c12-4b37-8589-33a185ef9a8f",
   "metadata": {},
   "source": [
    "##  7. What is the mathematical explanation behind Decision Trees?\n",
    "\n",
    "##  Decision trees, both for classification and regression, rely on mathematical concepts to determine the best way to split data at each node. Key metrics like entropy and information gain (for classification), or variance reduction (for regression), guide the algorithm in creating a tree structure that effectively separates data points based on their features. \n",
    "Here's a breakdown of the mathematical concepts:\n",
    "1. Classification Trees (Categorical Target Variable):\n",
    "Entropy: Measures the impurity or disorder within a set of data points. A pure node (all data points belong to the same class) has an entropy of 0, while a node with an equal distribution of classes has an entropy of 1 (for binary classification). The formula for entropy in a binary classification scenario is:"
   ]
  },
  {
   "cell_type": "code",
   "execution_count": null,
   "id": "dc8b5ea1-0bed-4dff-bc99-587e8e6493dc",
   "metadata": {},
   "outputs": [],
   "source": [
    "    Entropy(S) = -p\\*log2(p) - (1-p)\\*log2(1-p)"
   ]
  },
  {
   "cell_type": "code",
   "execution_count": null,
   "id": "f346c453-9fd8-4c0d-9bc7-f17d7cfc40a8",
   "metadata": {},
   "outputs": [],
   "source": [
    "where p is the proportion of data points belonging to one class. \n",
    "Gini Impurity: Another measure of impurity, often used as an alternative to entropy. It calculates the probability of a randomly chosen element being incorrectly classified. The Gini impurity is calculated as:"
   ]
  },
  {
   "cell_type": "code",
   "execution_count": null,
   "id": "f0ed6c5f-d3c4-423b-8f2b-e0785b6dbb08",
   "metadata": {},
   "outputs": [],
   "source": [
    "    Gini(S) = 1 - Σ pᵢ²"
   ]
  },
  {
   "cell_type": "markdown",
   "id": "1f6f9ca0-4144-45b6-a56b-ef7c1cfb8ac0",
   "metadata": {},
   "source": [
    "##  8. What is Pre-Pruning in Decision Trees?\n",
    "\n",
    "##  Pre-pruning (also called early stopping) is a technique used to prevent a decision tree from growing too deep and overfitting the training data by stopping the tree growth early — before it becomes too complex.\n",
    "\n",
    "* Why is Pre-Pruning Needed?\n",
    "Decision Trees tend to overfit by creating very deep trees that perfectly fit the training data (including noise).\n",
    "\n",
    "Pre-pruning introduces a stopping condition to halt the tree-building process before reaching a leaf that perfectly classifies the data.\n",
    "\n",
    "* How Pre-Pruning Works\n",
    "The tree stops splitting a node if any of the following conditions are met:\n",
    "\n",
    "Maximum depth is reached\n",
    "(max_depth in sklearn)\n",
    "\n",
    "Minimum number of samples in a node\n",
    "(min_samples_split or min_samples_leaf)\n",
    "\n",
    "No significant improvement in impurity\n",
    "The decrease in impurity is too small (min_impurity_decrease)\n",
    "\n",
    "Maximum number of leaf nodes\n",
    "(max_leaf_nodes)\n",
    "\n",
    "* Benefits of Pre-Pruning\n",
    "Reduces overfitting\n",
    "\n",
    "Improves generalization on test data\n",
    "\n",
    "Speeds up training and prediction\n",
    "\n",
    "* Limitations\n",
    "Might underfit if you prune too early.\n",
    "\n",
    "Requires careful tuning of parameters."
   ]
  },
  {
   "cell_type": "markdown",
   "id": "83cb5f5e-ace7-424a-9241-d32e3efee96d",
   "metadata": {},
   "source": [
    "##  9. What is Post-Pruning in Decision Trees?\n",
    "\n",
    "##  Post-pruning (also called cost-complexity pruning or error-based pruning) is a technique used to simplify a fully grown decision tree by removing unnecessary branches that do not improve the model’s generalization on unseen data.\n",
    "\n",
    "It is done after the full tree has been built.\n",
    "\n",
    "* Why Post-Pruning?\n",
    "A fully grown tree often overfits the training data.\n",
    "\n",
    "Post-pruning helps improve accuracy on test data by reducing complexity.\n",
    "\n",
    "It finds a balance between bias and variance.\n",
    "\n",
    "* How Post-Pruning Works\n",
    "Grow the full tree until all nodes are pure or meet the stopping criteria.\n",
    "\n",
    "Evaluate subtrees (or branches) using a validation set or statistical test.\n",
    "\n",
    "Prune (cut off) the branches that do not significantly reduce error or increase accuracy on the validation set.\n",
    "\n",
    "Replace those branches with a leaf node containing the most common class or average value.\n",
    "\n"
   ]
  },
  {
   "cell_type": "markdown",
   "id": "5e009e6f-f006-4f77-9bc6-9577e2817932",
   "metadata": {},
   "source": [
    "##  10. What is the difference between Pre-Pruning and Post-Pruning?\n",
    "\n",
    "##  Pre-pruning and post-pruning are two strategies used to optimize decision trees by reducing their complexity and preventing overfitting. Pre-pruning stops the tree's growth during construction, while post-pruning simplifies a fully grown tree. \n",
    "\n",
    "* Pre-Pruning \n",
    "Mechanism:\n",
    "Stops the tree's growth during the construction phase based on certain criteria. \n",
    "How it works:\n",
    "It evaluates each split and decides whether to continue building the tree based on factors like minimum samples per leaf or minimum information gain. \n",
    "\n",
    "Example:\n",
    "If a split doesn't improve the model's performance by a certain threshold, the algorithm stops splitting at that node and declares it a leaf node. \n",
    "\n",
    "Advantages:\n",
    "Generally faster than post-pruning as it avoids building the full tree. \n",
    "\n",
    "Disadvantages:\n",
    "Can be too aggressive, potentially stopping the tree prematurely before it has a chance to capture all relevant information. \n",
    "\n",
    "* Post-Pruning (Reducing Nodes):\n",
    "Mechanism:\n",
    "Builds a fully grown tree and then simplifies it by removing branches or subtrees that don't contribute significantly to the model's performance. \n",
    "How it works:\n",
    "It uses techniques like cost-complexity pruning or reduced error pruning to identify and remove branches that are not adding value. \n",
    "\n",
    "Example:\n",
    "If a subtree's contribution to accuracy is minimal, it might be replaced with a leaf node. \n",
    "\n",
    "Advantages:\n",
    "More robust than pre-pruning, allowing the tree to fully explore the data before simplification. \n",
    "\n",
    "Disadvantages:\n",
    "Computationally more expensive than pre-pruning as it involves building and then pruning the entire tree."
   ]
  },
  {
   "cell_type": "markdown",
   "id": "3f641e83-3275-4508-bb9d-7b31a80e1f33",
   "metadata": {},
   "source": [
    "##  11. What is a Decision Tree Regressor?\n",
    "\n",
    "##  A Decision Tree Regressor is a type of supervised learning algorithm used to predict continuous numeric values (as opposed to class labels). It builds a tree-like model of decisions to predict real-valued outcomes by recursively splitting the dataset based on input features.\n",
    "\n",
    " Example\n",
    "Predicting house prices\n",
    "\n",
    "Estimating stock prices\n",
    "\n",
    "Forecasting sales or revenue\n",
    "\n",
    "Predicting age or income\n",
    "\n",
    "* How It Works:\n",
    "Start with the full dataset.\n",
    "\n",
    "At each node, the algorithm chooses the best feature and split point to divide the data into two groups.\n",
    "\n",
    "The best split minimizes the variance (or sum of squared errors) of the target variable in each group.\n",
    "\n",
    "The process is recursive: keep splitting until a stopping condition is met.\n",
    "\n",
    "Leaf nodes contain a predicted value, typically the mean of the target values in that node.\n",
    "\n",
    "* Advantages\n",
    "Easy to understand and interpret\n",
    "\n",
    "Can model nonlinear relationships\n",
    "\n",
    "No need for feature scaling\n",
    "\n",
    "* Disadvantages\n",
    "Prone to overfitting\n",
    "\n",
    "Unstable (small data changes → different tree)\n",
    "\n",
    "Less accurate than ensembles like Random Forest or Gradient Boosting.\n",
    "\n"
   ]
  },
  {
   "cell_type": "markdown",
   "id": "d162e96e-30a5-4b5e-8db9-c7f416825d9a",
   "metadata": {},
   "source": [
    "##  12. What are the advantages and disadvantages of Decision Trees?\n",
    "\n",
    "##  Advantages of Decision Trees\n",
    "\n",
    "1. Easy to Understand and Interpret:\tDecision trees are visual and resemble human decision-making processes.\n",
    "2. No Need for Feature Scaling:\tThey don't require normalization or standardization of data.\n",
    "3. Works with Both Numerical and Categorical Data:\tSuitable for a mix of feature types.\n",
    "4. Handles Non-linear Relationships:\tCan model complex, non-linear patterns without needing transformation.\n",
    "5. Minimal Data Preparation:\tNo need to remove outliers or apply scaling; works well even with missing values (some implementations).\n",
    "6. Feature Selection Built-in:\tAutomatically selects the most important features while splitting.\n",
    "7. Fast Prediction Time: Once built, predictions are quick and efficient.\n",
    "\n",
    "\n",
    "## Disadvantages of Decision Trees\n",
    "\n",
    "1. Prone to Overfitting:\tEspecially with deep trees; captures noise in the training data.\n",
    "2. Unstable\tSmall: changes in data can lead to very different tree structures.\n",
    "3. Greedy Algorithm:\tMakes locally optimal splits (doesn't backtrack), which may not lead to the best global model.\n",
    "4. Less Accurate Alone:\tOften outperformed by ensemble methods like Random Forests or Gradient Boosted Trees.\n",
    "5. Poor Generalization:\tA very deep tree may fit training data too well but fail to generalize on unseen data.\n",
    "6. Biased Toward Features with More Levels:\tFeatures with many unique values (like ID numbers) can dominate splits.\n"
   ]
  },
  {
   "cell_type": "markdown",
   "id": "8d45ebcb-60e4-4409-b447-f3423edd7ef8",
   "metadata": {},
   "source": [
    "##  13. How does a Decision Tree handle missing values?\n",
    "\n",
    "##  Decision Trees can handle missing values using several techniques, depending on the algorithm and implementation. However, the basic Decision Tree algorithm (like in scikit-learn) does not natively support missing values, so we need to handle them manually or use advanced tree algorithms that do.\n",
    "\n",
    "* Approaches to Handle Missing Values in Decision Trees\n",
    "🔹 1. Manual Imputation (Preprocessing)\n",
    "Before training the tree, fill in missing values using techniques like:\n",
    "\n",
    "Mean / Median / Mode imputation\n",
    "\n",
    "KNN imputation\n",
    "\n",
    "Multivariate Imputation"
   ]
  },
  {
   "cell_type": "code",
   "execution_count": null,
   "id": "bc02df32-0819-405c-923c-446fbd55594a",
   "metadata": {},
   "outputs": [],
   "source": [
    "# example in Python\n",
    "from sklearn.impute import SimpleImputer\n",
    "\n",
    "imputer = SimpleImputer(strategy='mean')  # or 'median', 'most_frequent'\n",
    "X_imputed = imputer.fit_transform(X)\n"
   ]
  },
  {
   "cell_type": "code",
   "execution_count": null,
   "id": "6eb37875-e1d8-42ca-a0b4-ecdbebfe68c5",
   "metadata": {},
   "outputs": [],
   "source": [
    " 2. Ignore Instances with Missing Values (Not Recommended)\n",
    "Simply remove rows with missing values, but this can lead to:\n",
    "\n",
    "Loss of data\n",
    "\n",
    "Bias in the model"
   ]
  },
  {
   "cell_type": "code",
   "execution_count": null,
   "id": "92b06e90-717f-4fa7-a83d-de59bf01969f",
   "metadata": {},
   "outputs": [],
   "source": [
    "X = X.dropna()\n"
   ]
  },
  {
   "cell_type": "code",
   "execution_count": null,
   "id": "59b132b8-0fd8-470d-889a-6ccfb7a8ec57",
   "metadata": {},
   "outputs": [],
   "source": [
    "3. Surrogate Splits (Advanced Trees Only)\n",
    "Used in algorithms like CART (in R) or C4.5/C5.0\n",
    "\n",
    "When a value is missing for the main splitting feature, a surrogate feature (one that makes similar splits) is used.\n",
    "\n",
    "This preserves more data and makes better use of available information."
   ]
  },
  {
   "cell_type": "markdown",
   "id": "3ad711be-47a5-45d8-81d7-7abfe033f018",
   "metadata": {},
   "source": [
    "##  14. How does a Decision Tree handle categorical features?\n",
    "\n",
    "##  Decision Trees can handle categorical features effectively by splitting based on categories instead of numerical thresholds. However, how this is done depends on the algorithm and library you're using.\n",
    "\n",
    "* General Behavior:\n",
    "A categorical feature is a feature with discrete values (like 'Red', 'Green', 'Blue', or 'Male', 'Female')."
   ]
  },
  {
   "cell_type": "markdown",
   "id": "c505e43d-1b95-47e2-859b-2a3bd710bfcf",
   "metadata": {},
   "source": [
    "##  15. What are some real-world applications of Decision Trees?\n",
    "\n",
    "##  Real-World Applications of Decision Trees\n",
    "Decision Trees are widely used in many industries due to their simplicity, interpretability, and flexibility. Here are some common real-world applications across different domains:\n",
    "\n",
    " 1. Healthcare & Medical Diagnosis\n",
    "Use: Predict whether a patient has a disease (e.g., diabetes, cancer) based on symptoms and test results.\n",
    "\n",
    "Why: Easy to explain to doctors and patients.\n",
    "\n",
    "Example:\n",
    "If glucose > 120 and BMI > 30 → High risk of diabetes.\n",
    "\n",
    " 2. Finance & Credit Scoring\n",
    "Use: Approve or deny loans, assess credit risk, detect fraud.\n",
    "\n",
    "Why: Transparent logic for high-stakes decisions.\n",
    "\n",
    "Example:\n",
    "If income > ₹50,000 and previous loans = 0 → Approve loan.\n",
    "\n",
    " 3. Retail & Marketing\n",
    "Use: Predict customer churn, segment customers, recommend products.\n",
    "\n",
    "Why: Helps personalize marketing and promotions.\n",
    "\n",
    "Example:\n",
    "If age < 25 and purchases > 5 → Send discount coupon.\n",
    "\n",
    " 4. Telecommunications\n",
    "Use: Predict churn (whether a customer will leave the service).\n",
    "\n",
    "Why: Helps in customer retention.\n",
    "\n",
    "Example:\n",
    "If monthly bill > ₹1000 and complaints > 3 → High churn risk.\n",
    "\n",
    " 5. Education\n",
    "Use: Predict student performance, dropouts, or suggest learning paths.\n",
    "\n",
    "Why: Helps schools intervene early.\n",
    "\n",
    "Example:\n",
    "If attendance < 75% and marks < 50 → At risk of failing.\n",
    "\n",
    " 6. Government & Policy Making\n",
    "Use: Classify citizens for subsidy eligibility or tax audit.\n",
    "\n",
    "Why: Decision trees provide clear, auditable rules.\n",
    "\n",
    "Example:\n",
    "If income < ₹2.5 lakh and landholding < 1 hectare → Eligible for subsidy.\n",
    "\n",
    " 7. Machine Learning Model Building\n",
    "Use: As base models in ensemble methods like:\n",
    "\n",
    "Random Forest\n",
    "\n",
    "Gradient Boosted Trees (XGBoost, LightGBM)\n",
    "\n",
    "Why: They serve as weak learners for boosting or bagging.\n",
    "\n",
    " 8. Gaming\n",
    "Use: Build decision-making logic for AI agents.\n",
    "\n",
    "Why: Trees can map out \"if-then\" rules efficiently.\n",
    "\n",
    "Example:\n",
    "If enemy health < 30% and player ammo > 10 → Attack.\n",
    "\n",
    " 9. Manufacturing & Quality Control\n",
    "Use: Predict machine failure, detect defective products.\n",
    "\n",
    "Why: Helps minimize downtime and improve quality.\n",
    "\n",
    "Example:\n",
    "If vibration > threshold and temp > 70°C → Machine likely to fail.\n",
    "\n",
    " 10. Logistics & Supply Chain\n",
    "Use: Forecast demand, optimize delivery routes.\n",
    "\n",
    "Why: Improves operational efficiency.\n",
    "\n",
    "Example:\n",
    "If product = \"ice cream\" and weather = \"hot\" → Increase stock."
   ]
  },
  {
   "cell_type": "code",
   "execution_count": null,
   "id": "608127eb-2357-4d83-be59-adce6041a27e",
   "metadata": {},
   "outputs": [],
   "source": []
  },
  {
   "cell_type": "markdown",
   "id": "cd868436-6522-4ba7-963b-c782c6cc2a84",
   "metadata": {},
   "source": [
    "## PRACTICAL QUESTIONS"
   ]
  },
  {
   "cell_type": "markdown",
   "id": "b8f727d0-4402-46f2-89ce-49a93d69df53",
   "metadata": {},
   "source": [
    "##  16. Write a Python program to train a Decision Tree Classifier on the Iris dataset and print the model accuracy.\n",
    "\n",
    "##  Explanation:\n",
    "load_iris(): Loads the Iris dataset.\n",
    "\n",
    "train_test_split(): Splits the data into training (80%) and testing (20%).\n",
    "\n",
    "DecisionTreeClassifier(): Initializes the decision tree.\n",
    "\n",
    ".fit(): Trains the model.\n",
    "\n",
    ".predict(): Predicts on test data.\n",
    "\n",
    "accuracy_score(): Calculates how accurate the predictions are."
   ]
  },
  {
   "cell_type": "code",
   "execution_count": 4,
   "id": "2f14b6b9-221c-4f2d-a44f-c920f4a3a3c3",
   "metadata": {},
   "outputs": [
    {
     "name": "stdout",
     "output_type": "stream",
     "text": [
      "Model Accuracy on Test Data: 100.00%\n"
     ]
    }
   ],
   "source": [
    "# Python Program: Train Decision Tree on Iris Dataset\n",
    "\n",
    "# Import necessary libraries\n",
    "from sklearn.datasets import load_iris\n",
    "from sklearn.model_selection import train_test_split\n",
    "from sklearn.tree import DecisionTreeClassifier\n",
    "from sklearn.metrics import accuracy_score\n",
    "\n",
    "# Load the Iris dataset\n",
    "iris = load_iris()\n",
    "X = iris.data        # Features\n",
    "y = iris.target      # Labels\n",
    "\n",
    "# Split the dataset into training and testing sets\n",
    "X_train, X_test, y_train, y_test = train_test_split(X, y, test_size=0.2, random_state=42)\n",
    "\n",
    "# Create and train the Decision Tree Classifier\n",
    "clf = DecisionTreeClassifier(random_state=42)\n",
    "clf.fit(X_train, y_train)\n",
    "\n",
    "# Make predictions on the test set\n",
    "y_pred = clf.predict(X_test)\n",
    "\n",
    "\n",
    "accuracy = accuracy_score(y_test, y_pred)\n",
    "print(\"Model Accuracy on Test Data: {:.2f}%\".format(accuracy * 100))\n"
   ]
  },
  {
   "cell_type": "markdown",
   "id": "c8daf662-63c5-49ea-9de2-5fb93479e780",
   "metadata": {},
   "source": [
    "##  17. Write a Python program to train a Decision Tree Classifier using Gini Impurity as the criterion and print the feature importances.\n",
    "\n",
    "##  Python Program: Decision Tree using Gini Impurity\n"
   ]
  },
  {
   "cell_type": "code",
   "execution_count": 5,
   "id": "0380d1c1-1a01-4c44-999b-1820b51ae0a4",
   "metadata": {},
   "outputs": [
    {
     "name": "stdout",
     "output_type": "stream",
     "text": [
      "📊 Feature Importances (using Gini Impurity):\n",
      "sepal length (cm): 0.0000\n",
      "sepal width (cm): 0.0167\n",
      "petal length (cm): 0.9061\n",
      "petal width (cm): 0.0772\n"
     ]
    }
   ],
   "source": [
    "# Import required libraries\n",
    "from sklearn.datasets import load_iris\n",
    "from sklearn.model_selection import train_test_split\n",
    "from sklearn.tree import DecisionTreeClassifier\n",
    "\n",
    "# Load the Iris dataset\n",
    "iris = load_iris()\n",
    "X = iris.data\n",
    "y = iris.target\n",
    "feature_names = iris.feature_names\n",
    "\n",
    "# Split into training and testing sets\n",
    "X_train, X_test, y_train, y_test = train_test_split(X, y, test_size=0.2, random_state=42)\n",
    "\n",
    "# Create the Decision Tree Classifier with Gini impurity\n",
    "clf = DecisionTreeClassifier(criterion='gini', random_state=42)\n",
    "clf.fit(X_train, y_train)\n",
    "\n",
    "# Print feature importances\n",
    "importances = clf.feature_importances_\n",
    "\n",
    "print(\" Feature Importances (using Gini Impurity):\")\n",
    "for name, score in zip(feature_names, importances):\n",
    "    print(f\"{name}: {score:.4f}\")\n"
   ]
  },
  {
   "cell_type": "markdown",
   "id": "0f89861e-2376-4ce4-a0af-ff8711bc2d70",
   "metadata": {},
   "source": [
    "##  18. Write a Python program to train a Decision Tree Classifier using Entropy as the splitting criterion and print the model accuracy."
   ]
  },
  {
   "cell_type": "code",
   "execution_count": 6,
   "id": "aa0e5de5-b2f4-4056-9d37-2401314f4964",
   "metadata": {},
   "outputs": [
    {
     "name": "stdout",
     "output_type": "stream",
     "text": [
      "Model Accuracy using Entropy: 100.00%\n"
     ]
    }
   ],
   "source": [
    "# Python Program: Decision Tree with Entropy\n",
    "\n",
    "# Import necessary libraries\n",
    "from sklearn.datasets import load_iris\n",
    "from sklearn.model_selection import train_test_split\n",
    "from sklearn.tree import DecisionTreeClassifier\n",
    "from sklearn.metrics import accuracy_score\n",
    "\n",
    "# Load the Iris dataset\n",
    "iris = load_iris()\n",
    "X = iris.data\n",
    "y = iris.target\n",
    "\n",
    "# Split the data into training and test sets (80% train, 20% test)\n",
    "X_train, X_test, y_train, y_test = train_test_split(X, y, test_size=0.2, random_state=42)\n",
    "\n",
    "# Create and train the Decision Tree Classifier using 'entropy'\n",
    "clf = DecisionTreeClassifier(criterion='entropy', random_state=42)\n",
    "clf.fit(X_train, y_train)\n",
    "\n",
    "# Make predictions on the test data\n",
    "y_pred = clf.predict(X_test)\n",
    "\n",
    "# Calculate and print accuracy\n",
    "accuracy = accuracy_score(y_test, y_pred)\n",
    "print(\"Model Accuracy using Entropy: {:.2f}%\".format(accuracy * 100))\n"
   ]
  },
  {
   "cell_type": "markdown",
   "id": "415b0a86-ecfa-45e8-acc9-9bb8ca82b721",
   "metadata": {},
   "source": [
    "##  19. Write a Python program to train a Decision Tree Regressor on a housing dataset and evaluate using Mean Squared Error (MSE)."
   ]
  },
  {
   "cell_type": "code",
   "execution_count": 13,
   "id": "007b0e19-1097-40c3-adb0-34fcb4ae86fd",
   "metadata": {},
   "outputs": [
    {
     "name": "stdout",
     "output_type": "stream",
     "text": [
      "Mean Squared Error (MSE) on Test Data: 0.4952\n"
     ]
    }
   ],
   "source": [
    "# Python Program: Decision Tree Regressor with MSE (Mean Squared Error)\n",
    "\n",
    "# Import necessary libraries\n",
    "from sklearn.datasets import fetch_california_housing\n",
    "from sklearn.model_selection import train_test_split\n",
    "from sklearn.tree import DecisionTreeRegressor\n",
    "from sklearn.metrics import mean_squared_error\n",
    "\n",
    "# Load the California housing dataset\n",
    "data = fetch_california_housing()\n",
    "X = data.data\n",
    "y = data.target\n",
    "\n",
    "# Split the data into training and testing sets (80% train, 20% test)\n",
    "X_train, X_test, y_train, y_test = train_test_split(X, y, test_size=0.2, random_state=42)\n",
    "\n",
    "# Train the Decision Tree Regressor\n",
    "regressor = DecisionTreeRegressor(random_state=42)\n",
    "regressor.fit(X_train, y_train)\n",
    "\n",
    "# Make predictions on the test data\n",
    "y_pred = regressor.predict(X_test)\n",
    "\n",
    "# Calculate Mean Squared Error\n",
    "mse = mean_squared_error(y_test, y_pred)\n",
    "print(\"Mean Squared Error (MSE) on Test Data: {:.4f}\".format(mse))\n"
   ]
  },
  {
   "cell_type": "markdown",
   "id": "0399a62a-d6d2-4b19-bfe3-ab016aea6814",
   "metadata": {},
   "source": [
    "##  20. Write a Python program to train a Decision Tree Classifier and visualize the tree using graphviz."
   ]
  },
  {
   "cell_type": "code",
   "execution_count": 11,
   "id": "909d5760-d085-490c-b05f-bcee5741b008",
   "metadata": {},
   "outputs": [
    {
     "data": {
      "image/png": "[encoded data removed]",
      "text/plain": [
       "<Figure size 1200x800 with 1 Axes>"
      ]
     },
     "metadata": {},
     "output_type": "display_data"
    }
   ],
   "source": [
    "import matplotlib.pyplot as plt\n",
    "from sklearn.datasets import load_iris\n",
    "from sklearn.tree import DecisionTreeClassifier, plot_tree\n",
    "\n",
    "# Load dataset\n",
    "iris = load_iris()\n",
    "X, y = iris.data, iris.target\n",
    "\n",
    "# Train a Decision Tree Classifier\n",
    "clf = DecisionTreeClassifier(criterion='gini', random_state=42)\n",
    "clf.fit(X, y)\n",
    "\n",
    "# Plot the decision tree\n",
    "plt.figure(figsize=(12, 8))\n",
    "plot_tree(clf, \n",
    "          feature_names=iris.feature_names, \n",
    "          class_names=iris.target_names, \n",
    "          filled=True, \n",
    "          rounded=True)\n",
    "plt.title(\"Decision Tree Visualization (without Graphviz)\")\n",
    "plt.show()\n"
   ]
  },
  {
   "cell_type": "markdown",
   "id": "e45b0d8d-1acc-4252-a13c-226a61499410",
   "metadata": {},
   "source": [
    "##  21.Write a Python program to train a Decision Tree Classifier with a maximum depth of 3 and compare its accuracy with a fully grown tree."
   ]
  },
  {
   "cell_type": "code",
   "execution_count": 12,
   "id": "d8a48846-0578-4ac6-aeb1-b1a44e7b7193",
   "metadata": {},
   "outputs": [
    {
     "name": "stdout",
     "output_type": "stream",
     "text": [
      "Accuracy with max_depth=3     : 100.00%\n",
      "Accuracy with full tree       : 100.00%\n"
     ]
    }
   ],
   "source": [
    "from sklearn.datasets import load_iris\n",
    "from sklearn.model_selection import train_test_split\n",
    "from sklearn.tree import DecisionTreeClassifier\n",
    "from sklearn.metrics import accuracy_score\n",
    "\n",
    "# Load the Iris dataset\n",
    "iris = load_iris()\n",
    "X, y = iris.data, iris.target\n",
    "\n",
    "# Split into train and test sets\n",
    "X_train, X_test, y_train, y_test = train_test_split(\n",
    "    X, y, test_size=0.2, random_state=42\n",
    ")\n",
    "\n",
    "# Model 1: Decision Tree with max_depth = 3\n",
    "clf_limited = DecisionTreeClassifier(max_depth=3, random_state=42)\n",
    "clf_limited.fit(X_train, y_train)\n",
    "y_pred_limited = clf_limited.predict(X_test)\n",
    "acc_limited = accuracy_score(y_test, y_pred_limited)\n",
    "\n",
    "# Model 2: Fully grown Decision Tree\n",
    "clf_full = DecisionTreeClassifier(random_state=42)  # No max_depth\n",
    "clf_full.fit(X_train, y_train)\n",
    "y_pred_full = clf_full.predict(X_test)\n",
    "acc_full = accuracy_score(y_test, y_pred_full)\n",
    "\n",
    "# Print comparison\n",
    "print(f\"Accuracy with max_depth=3     : {acc_limited * 100:.2f}%\")\n",
    "print(f\"Accuracy with full tree       : {acc_full * 100:.2f}%\")\n"
   ]
  },
  {
   "cell_type": "code",
   "execution_count": null,
   "id": "dbccc677-91b5-4d4d-9ef6-6a74f6b3d95c",
   "metadata": {},
   "outputs": [],
   "source": [
    "##  22. Write a Python program to train a Decision Tree Classifier using min_samples_split=5 and compare its accuracy with a default tree.\n"
   ]
  },
  {
   "cell_type": "code",
   "execution_count": 14,
   "id": "8faeeef9-c68c-4b68-88fc-5176f73bebf1",
   "metadata": {},
   "outputs": [
    {
     "name": "stdout",
     "output_type": "stream",
     "text": [
      "Accuracy with min_samples_split=5 : 100.00%\n",
      "Accuracy with default parameters  : 100.00%\n"
     ]
    }
   ],
   "source": [
    "# Python Program: Compare min_samples_split=5 vs Default\n",
    "\n",
    "\n",
    "from sklearn.datasets import load_iris\n",
    "from sklearn.model_selection import train_test_split\n",
    "from sklearn.tree import DecisionTreeClassifier\n",
    "from sklearn.metrics import accuracy_score\n",
    "\n",
    "# Load the Iris dataset\n",
    "iris = load_iris()\n",
    "X, y = iris.data, iris.target\n",
    "\n",
    "# Split into training and testing sets\n",
    "X_train, X_test, y_train, y_test = train_test_split(\n",
    "    X, y, test_size=0.2, random_state=42\n",
    ")\n",
    "\n",
    "# Model 1: Decision Tree with min_samples_split = 5\n",
    "clf_custom = DecisionTreeClassifier(min_samples_split=5, random_state=42)\n",
    "clf_custom.fit(X_train, y_train)\n",
    "y_pred_custom = clf_custom.predict(X_test)\n",
    "acc_custom = accuracy_score(y_test, y_pred_custom)\n",
    "\n",
    "# Model 2: Default Decision Tree\n",
    "clf_default = DecisionTreeClassifier(random_state=42)\n",
    "clf_default.fit(X_train, y_train)\n",
    "y_pred_default = clf_default.predict(X_test)\n",
    "acc_default = accuracy_score(y_test, y_pred_default)\n",
    "\n",
    "# Print comparison\n",
    "print(f\"Accuracy with min_samples_split=5 : {acc_custom * 100:.2f}%\")\n",
    "print(f\"Accuracy with default parameters  : {acc_default * 100:.2f}%\")\n"
   ]
  },
  {
   "cell_type": "markdown",
   "id": "bb778441-7c3f-4b29-9b83-5e91fd0b6848",
   "metadata": {},
   "source": [
    "##  23. Write a Python program to apply feature scaling before training a Decision Tree Classifier and compare its accuracy with unscaled data."
   ]
  },
  {
   "cell_type": "code",
   "execution_count": 15,
   "id": "0a67ff4f-d116-4363-afa3-4fd0c52fa6fc",
   "metadata": {},
   "outputs": [
    {
     "name": "stdout",
     "output_type": "stream",
     "text": [
      "Accuracy on unscaled data : 100.00%\n",
      "Accuracy on scaled data   : 100.00%\n"
     ]
    }
   ],
   "source": [
    "# Python Program: Feature Scaling vs Unscaled for Decision Tree\n",
    "\n",
    "from sklearn.datasets import load_iris\n",
    "from sklearn.model_selection import train_test_split\n",
    "from sklearn.preprocessing import StandardScaler\n",
    "from sklearn.tree import DecisionTreeClassifier\n",
    "from sklearn.metrics import accuracy_score\n",
    "\n",
    "# Load the dataset\n",
    "iris = load_iris()\n",
    "X, y = iris.data, iris.target\n",
    "\n",
    "# Split into train and test sets\n",
    "X_train, X_test, y_train, y_test = train_test_split(\n",
    "    X, y, test_size=0.2, random_state=42\n",
    ")\n",
    "\n",
    "# 1️ raw data\n",
    "clf_raw = DecisionTreeClassifier(random_state=42)\n",
    "clf_raw.fit(X_train, y_train)\n",
    "y_pred_raw = clf_raw.predict(X_test)\n",
    "acc_raw = accuracy_score(y_test, y_pred_raw)\n",
    "\n",
    "# 2️ scaled data\n",
    "scaler = StandardScaler()\n",
    "X_train_scaled = scaler.fit_transform(X_train)\n",
    "X_test_scaled = scaler.transform(X_test)\n",
    "\n",
    "clf_scaled = DecisionTreeClassifier(random_state=42)\n",
    "clf_scaled.fit(X_train_scaled, y_train)\n",
    "y_pred_scaled = clf_scaled.predict(X_test_scaled)\n",
    "acc_scaled = accuracy_score(y_test, y_pred_scaled)\n",
    "\n",
    "\n",
    "print(f\"Accuracy on unscaled data : {acc_raw * 100:.2f}%\")\n",
    "print(f\"Accuracy on scaled data   : {acc_scaled * 100:.2f}%\")\n"
   ]
  },
  {
   "cell_type": "markdown",
   "id": "c4c8b8e9-3da1-43c8-8ae1-1a0d0e1a20f5",
   "metadata": {},
   "source": [
    "##  24. Write a Python program to train a Decision Tree Classifier using One-vs-Rest (OvR) strategy for multiclass classification."
   ]
  },
  {
   "cell_type": "code",
   "execution_count": 16,
   "id": "d9c6a2e0-d89e-4965-a951-9c65777f7581",
   "metadata": {},
   "outputs": [
    {
     "name": "stdout",
     "output_type": "stream",
     "text": [
      "Accuracy using One-vs-Rest Decision Tree Classifier: 100.00%\n"
     ]
    }
   ],
   "source": [
    "# Python Program: Decision Tree with One-vs-Rest (OvR)\n",
    "\n",
    "from sklearn.datasets import load_iris\n",
    "from sklearn.model_selection import train_test_split\n",
    "from sklearn.tree import DecisionTreeClassifier\n",
    "from sklearn.multiclass import OneVsRestClassifier\n",
    "from sklearn.metrics import accuracy_score\n",
    "\n",
    "# Load the Iris dataset\n",
    "iris = load_iris()\n",
    "X, y = iris.data, iris.target\n",
    "\n",
    "# Split into training and testing sets\n",
    "X_train, X_test, y_train, y_test = train_test_split(\n",
    "    X, y, test_size=0.2, random_state=42\n",
    ")\n",
    "\n",
    "# Create One-vs-Rest model with Decision Tree as base classifier\n",
    "ovr_model = OneVsRestClassifier(DecisionTreeClassifier(random_state=42))\n",
    "\n",
    "# Train the model\n",
    "ovr_model.fit(X_train, y_train)\n",
    "\n",
    "# Predict on test data\n",
    "y_pred = ovr_model.predict(X_test)\n",
    "\n",
    "# Evaluate accuracy\n",
    "accuracy = accuracy_score(y_test, y_pred)\n",
    "print(f\"Accuracy using One-vs-Rest Decision Tree Classifier: {accuracy * 100:.2f}%\")\n"
   ]
  },
  {
   "cell_type": "markdown",
   "id": "ca344710-4f05-4c00-a508-b9803479a8ae",
   "metadata": {},
   "source": [
    "##  25. Write a Python program to train a Decision Tree Classifier and display the feature importance scores."
   ]
  },
  {
   "cell_type": "code",
   "execution_count": 17,
   "id": "820ec944-f644-46d4-8e5e-8c52b46bfc50",
   "metadata": {},
   "outputs": [
    {
     "name": "stdout",
     "output_type": "stream",
     "text": [
      "Feature Importance Scores:\n",
      "             Feature  Importance Score\n",
      "2  petal length (cm)          0.906143\n",
      "3   petal width (cm)          0.077186\n",
      "1   sepal width (cm)          0.016670\n",
      "0  sepal length (cm)          0.000000\n"
     ]
    }
   ],
   "source": [
    "# Python Program: Train Decision Tree & Display Feature Importances\n",
    "\n",
    "from sklearn.datasets import load_iris\n",
    "from sklearn.model_selection import train_test_split\n",
    "from sklearn.tree import DecisionTreeClassifier\n",
    "import pandas as pd\n",
    "\n",
    "# Load the Iris dataset\n",
    "iris = load_iris()\n",
    "X, y = iris.data, iris.target\n",
    "feature_names = iris.feature_names\n",
    "\n",
    "# Split into training and testing sets\n",
    "X_train, X_test, y_train, y_test = train_test_split(\n",
    "    X, y, test_size=0.2, random_state=42\n",
    ")\n",
    "\n",
    "# Train Decision Tree Classifier\n",
    "clf = DecisionTreeClassifier(random_state=42)\n",
    "clf.fit(X_train, y_train)\n",
    "\n",
    "# Get feature importances\n",
    "importances = clf.feature_importances_\n",
    "\n",
    "# Create DataFrame for better visualization\n",
    "importance_df = pd.DataFrame({\n",
    "    'Feature': feature_names,\n",
    "    'Importance Score': importances\n",
    "}).sort_values(by='Importance Score', ascending=False)\n",
    "\n",
    "# Print the feature importances\n",
    "print(\"Feature Importance Scores:\")\n",
    "print(importance_df)\n"
   ]
  },
  {
   "cell_type": "markdown",
   "id": "0ad387cf-81a6-4004-930c-bf9428b0fcaf",
   "metadata": {},
   "source": [
    "## 26. Write a Python program to train a Decision Tree Regressor with max_depth=5 and compare its performance with an unrestricted tree."
   ]
  },
  {
   "cell_type": "code",
   "execution_count": 18,
   "id": "95cda150-3bb8-4047-93f2-55863f863ad9",
   "metadata": {},
   "outputs": [
    {
     "name": "stdout",
     "output_type": "stream",
     "text": [
      "MSE with max_depth=5      : 0.5245\n",
      "MSE with full-depth tree : 0.4952\n"
     ]
    }
   ],
   "source": [
    "# Python Program: Compare Restricted vs Unrestricted Decision Tree Regressor\n",
    "\n",
    "from sklearn.datasets import fetch_california_housing\n",
    "from sklearn.model_selection import train_test_split\n",
    "from sklearn.tree import DecisionTreeRegressor\n",
    "from sklearn.metrics import mean_squared_error\n",
    "\n",
    "# Load the California housing dataset\n",
    "data = fetch_california_housing()\n",
    "X, y = data.data, data.target\n",
    "\n",
    "# Split dataset into train and test sets\n",
    "X_train, X_test, y_train, y_test = train_test_split(\n",
    "    X, y, test_size=0.2, random_state=42\n",
    ")\n",
    "\n",
    "# Regressor with max_depth = 5\n",
    "reg_limited = DecisionTreeRegressor(max_depth=5, random_state=42)\n",
    "reg_limited.fit(X_train, y_train)\n",
    "y_pred_limited = reg_limited.predict(X_test)\n",
    "mse_limited = mean_squared_error(y_test, y_pred_limited)\n",
    "\n",
    "# Regressor with no depth restriction (fully grown)\n",
    "reg_full = DecisionTreeRegressor(random_state=42)\n",
    "reg_full.fit(X_train, y_train)\n",
    "y_pred_full = reg_full.predict(X_test)\n",
    "mse_full = mean_squared_error(y_test, y_pred_full)\n",
    "\n",
    "print(f\"MSE with max_depth=5      : {mse_limited:.4f}\")\n",
    "print(f\"MSE with full-depth tree : {mse_full:.4f}\")\n"
   ]
  },
  {
   "cell_type": "markdown",
   "id": "981dc474-8d06-4875-9d6d-c742ed0113ce",
   "metadata": {},
   "source": [
    "##  27. Write a Python program to train a Decision Tree Classifier, apply Cost Complexity Pruning (CCP), and visualize its effect on accuracy."
   ]
  },
  {
   "cell_type": "code",
   "execution_count": 19,
   "id": "584a7a0e-fcfc-43ba-b0b9-ae136f368266",
   "metadata": {},
   "outputs": [
    {
     "data": {
      "image/png": "[encoded data removed]",
      "text/plain": [
       "<Figure size 1000x600 with 1 Axes>"
      ]
     },
     "metadata": {},
     "output_type": "display_data"
    }
   ],
   "source": [
    "# Python Program: Cost Complexity Pruning in Decision Tree\n",
    "\n",
    "import matplotlib.pyplot as plt\n",
    "from sklearn.datasets import load_iris\n",
    "from sklearn.tree import DecisionTreeClassifier\n",
    "from sklearn.model_selection import train_test_split\n",
    "from sklearn.metrics import accuracy_score\n",
    "\n",
    "# Load the Iris dataset\n",
    "iris = load_iris()\n",
    "X, y = iris.data, iris.target\n",
    "\n",
    "# Split into training and test sets\n",
    "X_train, X_test, y_train, y_test = train_test_split(\n",
    "    X, y, test_size=0.2, random_state=42\n",
    ")\n",
    "\n",
    "# Train a base Decision Tree to get effective alphas\n",
    "clf = DecisionTreeClassifier(random_state=42)\n",
    "path = clf.cost_complexity_pruning_path(X_train, y_train)\n",
    "ccp_alphas = path.ccp_alphas\n",
    "\n",
    "#  Train one tree per alpha value\n",
    "clfs = []\n",
    "for alpha in ccp_alphas:\n",
    "    dt = DecisionTreeClassifier(random_state=42, ccp_alpha=alpha)\n",
    "    dt.fit(X_train, y_train)\n",
    "    clfs.append(dt)\n",
    "\n",
    "# Evaluate accuracy on test data\n",
    "test_accuracies = [accuracy_score(y_test, clf.predict(X_test)) for clf in clfs]\n",
    "train_accuracies = [accuracy_score(y_train, clf.predict(X_train)) for clf in clfs]\n",
    "\n",
    "#  Plot the results\n",
    "plt.figure(figsize=(10, 6))\n",
    "plt.plot(ccp_alphas, train_accuracies, marker='o', label='Train Accuracy', color='blue')\n",
    "plt.plot(ccp_alphas, test_accuracies, marker='s', label='Test Accuracy', color='green')\n",
    "plt.xlabel(\"ccp_alpha (Complexity Parameter)\")\n",
    "plt.ylabel(\"Accuracy\")\n",
    "plt.title(\"Effect of Cost Complexity Pruning on Accuracy\")\n",
    "plt.legend()\n",
    "plt.grid(True)\n",
    "plt.show()\n"
   ]
  },
  {
   "cell_type": "markdown",
   "id": "e4094d18-2f71-4e25-a04e-6e98224f78c5",
   "metadata": {},
   "source": [
    "##  28. Write a Python program to train a Decision Tree Classifier and evaluate its performance using Precision, Recall, and F1-Score."
   ]
  },
  {
   "cell_type": "code",
   "execution_count": 20,
   "id": "101cf6f0-946c-4d9d-8ebb-89d09b809468",
   "metadata": {},
   "outputs": [
    {
     "name": "stdout",
     "output_type": "stream",
     "text": [
      "Classification Report:\n",
      "              precision    recall  f1-score   support\n",
      "\n",
      "      setosa       1.00      1.00      1.00        10\n",
      "  versicolor       1.00      1.00      1.00         9\n",
      "   virginica       1.00      1.00      1.00        11\n",
      "\n",
      "    accuracy                           1.00        30\n",
      "   macro avg       1.00      1.00      1.00        30\n",
      "weighted avg       1.00      1.00      1.00        30\n",
      "\n"
     ]
    }
   ],
   "source": [
    "# Python Program: Evaluate Decision Tree with Precision, Recall, F1-Score\n",
    "\n",
    "from sklearn.datasets import load_iris\n",
    "from sklearn.model_selection import train_test_split\n",
    "from sklearn.tree import DecisionTreeClassifier\n",
    "from sklearn.metrics import classification_report\n",
    "\n",
    "# Load the Iris dataset\n",
    "iris = load_iris()\n",
    "X, y = iris.data, iris.target\n",
    "\n",
    "# Split into training and test sets\n",
    "X_train, X_test, y_train, y_test = train_test_split(\n",
    "    X, y, test_size=0.2, random_state=42\n",
    ")\n",
    "\n",
    "# Train a Decision Tree Classifier\n",
    "clf = DecisionTreeClassifier(random_state=42)\n",
    "clf.fit(X_train, y_train)\n",
    "\n",
    "# Predict on the test set\n",
    "y_pred = clf.predict(X_test)\n",
    "\n",
    "\n",
    "print(\"Classification Report:\")\n",
    "print(classification_report(y_test, y_pred, target_names=iris.target_names))\n"
   ]
  },
  {
   "cell_type": "markdown",
   "id": "8f6cc51d-4ddd-49b1-9cbd-2d074d36ee8e",
   "metadata": {},
   "source": [
    "##  29. Write a Python program to train a Decision Tree Classifier and visualize the confusion matrix using seaborn."
   ]
  },
  {
   "cell_type": "code",
   "execution_count": 21,
   "id": "793c5b22-fe60-48dd-8121-33f54842c660",
   "metadata": {},
   "outputs": [
    {
     "data": {
      "image/png": "[encoded data removed]",
      "text/plain": [
       "<Figure size 600x500 with 2 Axes>"
      ]
     },
     "metadata": {},
     "output_type": "display_data"
    }
   ],
   "source": [
    "#  Python Program: Visualize Confusion Matrix with Seaborn\n",
    "\n",
    "import seaborn as sns\n",
    "import matplotlib.pyplot as plt\n",
    "from sklearn.datasets import load_iris\n",
    "from sklearn.model_selection import train_test_split\n",
    "from sklearn.tree import DecisionTreeClassifier\n",
    "from sklearn.metrics import confusion_matrix, ConfusionMatrixDisplay\n",
    "\n",
    "# Load the Iris dataset\n",
    "iris = load_iris()\n",
    "X, y = iris.data, iris.target\n",
    "class_names = iris.target_names\n",
    "\n",
    "# Split into training and testing sets\n",
    "X_train, X_test, y_train, y_test = train_test_split(\n",
    "    X, y, test_size=0.2, random_state=42\n",
    ")\n",
    "\n",
    "# Train a Decision Tree Classifier\n",
    "clf = DecisionTreeClassifier(random_state=42)\n",
    "clf.fit(X_train, y_train)\n",
    "\n",
    "# Predict on test data\n",
    "y_pred = clf.predict(X_test)\n",
    "\n",
    "# Create the confusion matrix\n",
    "cm = confusion_matrix(y_test, y_pred)\n",
    "\n",
    "# Plot using seaborn heatmap\n",
    "plt.figure(figsize=(6, 5))\n",
    "sns.heatmap(cm, annot=True, fmt=\"d\", cmap=\"Blues\", xticklabels=class_names, yticklabels=class_names)\n",
    "plt.xlabel(\"Predicted\")\n",
    "plt.ylabel(\"Actual\")\n",
    "plt.title(\"Confusion Matrix - Decision Tree Classifier\")\n",
    "plt.tight_layout()\n",
    "plt.show()\n"
   ]
  },
  {
   "cell_type": "markdown",
   "id": "c6cd39df-ad4f-4ebe-95b0-e91c8de2677f",
   "metadata": {},
   "source": [
    "##  Write a Python program to train a Decision Tree Classifier and use GridSearchCV to find the optimal values for max_depth and min_samples_split."
   ]
  },
  {
   "cell_type": "code",
   "execution_count": 22,
   "id": "549d202d-f036-4908-bc4c-30897ab8dc7d",
   "metadata": {},
   "outputs": [
    {
     "name": "stdout",
     "output_type": "stream",
     "text": [
      "Best Parameters Found: {'max_depth': 4, 'min_samples_split': 2}\n",
      "Test Accuracy of Best Model: 1.0000\n"
     ]
    }
   ],
   "source": [
    "# Python Program: Hyperparameter Tuning using GridSearchCV\n",
    "\n",
    "from sklearn.datasets import load_iris\n",
    "from sklearn.model_selection import train_test_split, GridSearchCV\n",
    "from sklearn.tree import DecisionTreeClassifier\n",
    "from sklearn.metrics import accuracy_score\n",
    "import pandas as pd\n",
    "\n",
    "# Load the dataset\n",
    "iris = load_iris()\n",
    "X, y = iris.data, iris.target\n",
    "\n",
    "# Split into train and test sets\n",
    "X_train, X_test, y_train, y_test = train_test_split(\n",
    "    X, y, test_size=0.2, random_state=42\n",
    ")\n",
    "\n",
    "# Define the model\n",
    "clf = DecisionTreeClassifier(random_state=42)\n",
    "\n",
    "# Define the parameter grid\n",
    "param_grid = {\n",
    "    'max_depth': [2, 3, 4, 5, None],\n",
    "    'min_samples_split': [2, 5, 10]\n",
    "}\n",
    "\n",
    "# Set up GridSearchCV\n",
    "grid_search = GridSearchCV(\n",
    "    estimator=clf,\n",
    "    param_grid=param_grid,\n",
    "    cv=5,\n",
    "    scoring='accuracy',\n",
    "    n_jobs=-1\n",
    ")\n",
    "\n",
    "# Fit GridSearchCV\n",
    "grid_search.fit(X_train, y_train)\n",
    "\n",
    "\n",
    "print(\"Best Parameters Found:\", grid_search.best_params_)  #  best parameters\n",
    "\n",
    "# Evaluate the best model on test data\n",
    "best_model = grid_search.best_estimator_\n",
    "y_pred = best_model.predict(X_test)\n",
    "accuracy = accuracy_score(y_test, y_pred)\n",
    "print(f\"Test Accuracy of Best Model: {accuracy:.4f}\")\n"
   ]
  },
  {
   "cell_type": "code",
   "execution_count": null,
   "id": "b52e61cd-6b4e-4d5c-a9c9-7b55d5d9b2c1",
   "metadata": {},
   "outputs": [],
   "source": []
  }
 ],
 "metadata": {
  "kernelspec": {
   "display_name": "Python 3 (ipykernel)",
   "language": "python",
   "name": "python3"
  },
  "language_info": {
   "codemirror_mode": {
    "name": "ipython",
    "version": 3
   },
   "file_extension": ".py",
   "mimetype": "text/x-python",
   "name": "python",
   "nbconvert_exporter": "python",
   "pygments_lexer": "ipython3",
   "version": "3.12.7"
  }
 },
 "nbformat": 4,
 "nbformat_minor": 5
}
